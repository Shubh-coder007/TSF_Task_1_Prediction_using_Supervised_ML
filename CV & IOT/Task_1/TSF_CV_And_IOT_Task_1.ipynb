{
  "nbformat": 4,
  "nbformat_minor": 0,
  "metadata": {
    "colab": {
      "name": "TSF_CV_And_IOT_Task-1.ipynb",
      "provenance": []
    },
    "kernelspec": {
      "name": "python3",
      "display_name": "Python 3"
    },
    "language_info": {
      "name": "python"
    }
  },
  "cells": [
    {
      "cell_type": "markdown",
      "metadata": {
        "id": "nZs-UYK9NxDx"
      },
      "source": [
        "# || The Sparks Foundation || (GRIPJUNE21)"
      ]
    },
    {
      "cell_type": "markdown",
      "metadata": {
        "id": "rjHzR4raOM8G"
      },
      "source": [
        "# Author: Shubh Dholakiya\n",
        "# (Data Science and Business Analytics Intern)"
      ]
    },
    {
      "cell_type": "markdown",
      "metadata": {
        "id": "-EbUwSF-Nw4R"
      },
      "source": [
        "### Successfully completed the Task 1 of CV & IOT\n",
        "## Task-1:\n",
        "### Character detector which extracts printed text from an image."
      ]
    },
    {
      "cell_type": "markdown",
      "metadata": {
        "id": "fnLtG62mOUxU"
      },
      "source": [
        "## Import Dependencies"
      ]
    },
    {
      "cell_type": "code",
      "metadata": {
        "id": "ek8qj7xlCArm"
      },
      "source": [
        "import cv2\n",
        "import pytesseract as pt\n",
        "# Setting path\n",
        "pt.pytesseract.tesseract_cmd = r'C:\Users\AppData\Local\Tesseract-OCR\tesseract.exe'"
      ],
      "execution_count": null,
      "outputs": []
    },
    {
      "cell_type": "markdown",
      "metadata": {
        "id": "iHG0O6KXOpY5"
      },
      "source": [
        "## Load the image"
      ]
    },
    {
      "cell_type": "code",
      "metadata": {
        "id": "QPdRLAGICHJQ"
      },
      "source": [
        "img = cv2.imread('img.png')"
      ],
      "execution_count": null,
      "outputs": []
    },
    {
      "cell_type": "markdown",
      "metadata": {
        "id": "aUkq5L7lOhMB"
      },
      "source": [
        "## Converting Image to String"
      ]
    },
    {
      "cell_type": "code",
      "metadata": {
        "id": "VACGMau0CEQS"
      },
      "source": [
        "def ocr_core(img):\n",
        "    text = pt.image_to_string(img)\n",
        "    return text"
      ],
      "execution_count": null,
      "outputs": []
    },
    {
      "cell_type": "markdown",
      "metadata": {
        "id": "XDh7aMmWOtuB"
      },
      "source": [
        "## Get gray scale image"
      ]
    },
    {
      "cell_type": "code",
      "metadata": {
        "id": "RbhUr_VECaP5"
      },
      "source": [
        "def get_grayscale(image):\n",
        "    return cv2.cvtColor(image, cv2.COLOR_BGR2GRAY)"
      ],
      "execution_count": null,
      "outputs": []
    },
    {
      "cell_type": "markdown",
      "metadata": {
        "id": "GH0fyO_rO2SC"
      },
      "source": [
        "## Noise removal\n"
      ]
    },
    {
      "cell_type": "code",
      "metadata": {
        "id": "tdgFpzMWCcjj"
      },
      "source": [
        "def remove_noise(image):\n",
        "    return cv2.medianBlur(image, 5)"
      ],
      "execution_count": null,
      "outputs": []
    },
    {
      "cell_type": "markdown",
      "metadata": {
        "id": "7adnsQ3kO7b_"
      },
      "source": [
        "## Thresholding\n"
      ]
    },
    {
      "cell_type": "code",
      "metadata": {
        "id": "gshYqGRsCdah"
      },
      "source": [
        "def thresholding(image):\n",
        "    return cv2.threshold(image, 0, 255, cv2.THRESH_BINARY + cv2.THRESH_OTSU)[1]"
      ],
      "execution_count": null,
      "outputs": []
    },
    {
      "cell_type": "code",
      "metadata": {
        "id": "3FIlpMaWChuZ"
      },
      "source": [
        "img = get_grayscale(img)\n",
        "img = thresholding(img)\n",
        "img = remove_noise(img)\n",
        "\n",
        "print(ocr_core(img))"
      ],
      "execution_count": null,
      "outputs": []
    }
  ]
}
