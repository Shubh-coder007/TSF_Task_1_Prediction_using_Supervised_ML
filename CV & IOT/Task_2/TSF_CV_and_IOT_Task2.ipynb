{
  "nbformat": 4,
  "nbformat_minor": 0,
  "metadata": {
    "colab": {
      "name": "TSF_CV_and_IOT_Task2.ipynb",
      "provenance": []
    },
    "kernelspec": {
      "name": "python3",
      "display_name": "Python 3"
    },
    "language_info": {
      "name": "python"
    }
  },
  "cells": [
    {
      "cell_type": "markdown",
      "metadata": {
        "id": "yIHce8TUDR_W"
      },
      "source": [
        "# || The Sparks Foundation || (GRIPJUNE21)"
      ]
    },
    {
      "cell_type": "markdown",
      "metadata": {
        "id": "eHW6-ngtDTzf"
      },
      "source": [
        "# Author: Shubh Dholakiya\n",
        "## (Data Science and Business Analytics Intern)"
      ]
    },
    {
      "cell_type": "markdown",
      "metadata": {
        "id": "UizbIukVDcM8"
      },
      "source": [
        "### Successfully completed the Task 2 of CV & IOT\n",
        "# Task-2:\n",
        "## Color Identification in Images, as in implementing an image color detector which identifies all the colors in the image."
      ]
    },
    {
      "cell_type": "markdown",
      "metadata": {
        "id": "FXLS5stXELtU"
      },
      "source": [
        "- Import Dependencies."
      ]
    },
    {
      "cell_type": "code",
      "metadata": {
        "id": "avoMoBBjtHnE"
      },
      "source": [
        "import cv2\n",
        "import pandas as pd"
      ],
      "execution_count": null,
      "outputs": []
    },
    {
      "cell_type": "code",
      "metadata": {
        "id": "29QPm38E3TWh"
      },
      "source": [
        "# reading image\n",
        "img = cv2.imread(\"img.jpg\")"
      ],
      "execution_count": null,
      "outputs": []
    },
    {
      "cell_type": "code",
      "metadata": {
        "id": "oOFR8z953VcI"
      },
      "source": [
        "# reading csv file\n",
        "index = ['color', 'color_name', 'hex', 'R', 'G', 'B']\n",
        "df = pd.read_csv(\"colors.csv\", names=index, header=None)"
      ],
      "execution_count": null,
      "outputs": []
    },
    {
      "cell_type": "code",
      "metadata": {
        "id": "7dGjdwkp3XEH"
      },
      "source": [
        "#declaring global variables\n",
        "selected = False\n",
        "r = g = b = xpos = ypos = 0"
      ],
      "execution_count": null,
      "outputs": []
    },
    {
      "cell_type": "code",
      "metadata": {
        "id": "_71H-Dx73dak"
      },
      "source": [
        "# Get the most matching color by find its mininmum distance color\n",
        "def findColor(R,G,B):\n",
        "\tmini = 1000\n",
        "\tfor i in range(len(df)):\n",
        "\t\td = abs(R - int(df.loc[i,'R'])) + abs(G - int(df.loc[i,'G'])) + abs(B - int(df.loc[i,'B']))\n",
        "\t\tif d <= mini:\n",
        "\t\t\tmini = d\n",
        "\t\t\tcname = df.loc[i, 'color_name']\n",
        "\n",
        "\treturn cname"
      ],
      "execution_count": null,
      "outputs": []
    },
    {
      "cell_type": "code",
      "metadata": {
        "id": "JS8ybv8G3fnP"
      },
      "source": [
        "# Get x,y coordinates of double click\n",
        "def get_coor(event, x, y, flags, params):\n",
        "\tif event == cv2.EVENT_LBUTTONDBLCLK:\n",
        "\t\tglobal b, g, r, xpos, ypos, selected\n",
        "\t\tselected = True\n",
        "\t\txpos = x\n",
        "\t\typos = y\n",
        "\t\tb,g,r = img[y,x]\n",
        "\t\tb = int(b)\n",
        "\t\tg = int(g)\n",
        "\t\tr = int(r)"
      ],
      "execution_count": null,
      "outputs": []
    },
    {
      "cell_type": "code",
      "metadata": {
        "id": "B0co0eTO3i1p"
      },
      "source": [
        "# creating window\n",
        "cv2.namedWindow('image')\n",
        "cv2.setMouseCallback('image', get_coor)"
      ],
      "execution_count": null,
      "outputs": []
    },
    {
      "cell_type": "code",
      "metadata": {
        "id": "CJunL11w3l1R"
      },
      "source": [
        "while True:\n",
        "\tcv2.imshow('image', img)\n",
        "\tif selected:\n",
        "\t\tcv2.rectangle(img, (20,20), (600,60), (b,g,r), -1)\n",
        "\t\ttext = findColor(r,g,b) + ' R=' + str(r) + ' G=' + str(g) + ' B=' + str(b)\n",
        "\t\tcv2.putText(img, text, (50,50), 2, 1, (255,255,255),2,cv2.LINE_AA)\n",
        "\n",
        "\t\t#For very light colours we will display text in black colour\n",
        "\t\tif r+g+b >=600:\n",
        "\t\t\tcv2.putText(img, text, (50,50), 2, 1, (0,0,0),2,cv2.LINE_AA)\n",
        "\n",
        "\tif cv2.waitKey(20) & 0xFF == 27:\n",
        "\t\tbreak\n",
        "\n",
        "cv2.destroyAllWindows()"
      ],
      "execution_count": null,
      "outputs": []
    },
    {
      "cell_type": "markdown",
      "metadata": {
        "id": "IbZAiZnmEUgM"
      },
      "source": [
        "# Let's see code execution in my Local Machine."
      ]
    }
  ]
}